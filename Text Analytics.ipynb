{
 "cells": [
  {
   "cell_type": "markdown",
   "metadata": {},
   "source": [
    "# Measuring similarity between Text: Cosine Similarity Measure"
   ]
  },
  {
   "cell_type": "markdown",
   "metadata": {},
   "source": [
    "### Installations\n",
    "##### pip install nltk\n",
    "##### pip install sklearn"
   ]
  },
  {
   "cell_type": "markdown",
   "metadata": {},
   "source": [
    "### Preparing nltk"
   ]
  },
  {
   "cell_type": "code",
   "execution_count": 5,
   "metadata": {},
   "outputs": [
    {
     "name": "stdout",
     "output_type": "stream",
     "text": [
      "[nltk_data] Downloading package punkt to\n",
      "[nltk_data]     C:\\Users\\Aniket\\AppData\\Roaming\\nltk_data...\n",
      "[nltk_data]   Package punkt is already up-to-date!\n"
     ]
    },
    {
     "data": {
      "text/plain": [
       "True"
      ]
     },
     "execution_count": 5,
     "metadata": {},
     "output_type": "execute_result"
    }
   ],
   "source": [
    "import nltk\n",
    "nltk.download('punkt')"
   ]
  },
  {
   "cell_type": "markdown",
   "metadata": {},
   "source": [
    "### Importing other packages"
   ]
  },
  {
   "cell_type": "code",
   "execution_count": 15,
   "metadata": {},
   "outputs": [],
   "source": [
    "import string\n",
    "from sklearn.feature_extraction.text import TfidfVectorizer"
   ]
  },
  {
   "cell_type": "markdown",
   "metadata": {},
   "source": [
    "### Cosine similarity function"
   ]
  },
  {
   "cell_type": "code",
   "execution_count": 16,
   "metadata": {},
   "outputs": [],
   "source": [
    "stemmer = nltk.stem.porter.PorterStemmer()\n",
    "remove_punctuation_map = dict((ord(char), None) for char in string.punctuation)\n",
    "\n",
    "def stem_tokens(tokens):\n",
    "    return [stemmer.stem(item) for item in tokens]\n",
    "\n",
    "# remove punctuation, lowercase, stem\n",
    "def normalize(text):\n",
    "    return stem_tokens(nltk.word_tokenize(text.lower().translate(remove_punctuation_map)))\n",
    "\n",
    "vectorizer = TfidfVectorizer(tokenizer=normalize, stop_words='english')\n",
    "\n",
    "def cosine_sim(text1, text2):\n",
    "    tfidf = vectorizer.fit_transform([text1, text2])\n",
    "    return ((tfidf * tfidf.T).A)[0, 1]\n"
   ]
  },
  {
   "cell_type": "markdown",
   "metadata": {},
   "source": [
    "### Code to load csv file "
   ]
  },
  {
   "cell_type": "code",
   "execution_count": 17,
   "metadata": {},
   "outputs": [],
   "source": [
    "# getRows(), takes the file name and returns the list of topics from the dataset\n",
    "import csv\n",
    "\n",
    "\n",
    "def getRows(filename):\n",
    "    topics = []\n",
    "    with open(filename, mode='r', encoding='utf8', errors='ignore') as csv_file:\n",
    "        csv_reader = csv.DictReader(csv_file)\n",
    "        line_count = 0\n",
    "        for row in csv_reader:\n",
    "            if line_count == 0:\n",
    "                # print(f'Column names are {\", \".join(row)}')\n",
    "                line_count += 1\n",
    "            topics.append(row[\"Topic\"])\n",
    "            # print(row[\"Topic\"])\n",
    "            line_count += 1\n",
    "        print(f'Processed {line_count} lines.')\n",
    "        return topics\n",
    "\n"
   ]
  },
  {
   "cell_type": "code",
   "execution_count": 30,
   "metadata": {},
   "outputs": [
    {
     "name": "stdout",
     "output_type": "stream",
     "text": [
      "Loading file...\n",
      "Processed 44 lines.\n",
      "Enter the search string: can you predict my house price?\n",
      "Top 10 match results: \n",
      "          Topic:  Cosine Sim Number\n",
      "        House Price Prediction:  1.0000000000000002\n",
      "        Predicting House Price:  1.0000000000000002\n",
      "Stock Price prediction using Knn:  0.3563004293331381\n",
      "           Rainfall Prediction:  0.2605556710562624\n",
      "       Stock Market Prediction:  0.20199309249791833\n",
      "      Diabetes Risk Prediction:  0.20199309249791833\n",
      "          Precting stock price:  0.20199309249791833\n",
      "      Diabetes Risk Prediction:  0.20199309249791833\n",
      "       Flight Delay Prediction:  0.20199309249791833\n",
      "  IMDB Movie Rating Prediction:  0.17077611319011649\n"
     ]
    }
   ],
   "source": [
    "if __name__ == '__main__':\n",
    "    print('Loading file...')\n",
    "    # loading dataset.csv file\n",
    "    filename = 'dataset.csv'  # name of the file to be loaded \n",
    "    topic_list = getRows(filename)\n",
    "\n",
    "    input_string = input('Enter the search string: ')\n",
    "\n",
    "    cosine_list = {}\n",
    "    for i, x in enumerate(topic_list):\n",
    "        cosine_list.update({i: cosine_sim(x, input_string)})\n",
    "    sorted_list = sorted(cosine_list.items(), key=lambda x: x[1], reverse=True)\n",
    "\n",
    "    # print the top 10 results along with their cosine similarity\n",
    "    print('Top 10 match results: ')\n",
    "    print(\"%15s\" % (\"Topic\") + \":  %10s\"%(\"Cosine Sim Number\"))\n",
    "    for x in sorted_list[:10]:\n",
    "        print(\"%30s\" %(topic_list[x[0]]) + ':  %10s'% (str(x[1])))\n"
   ]
  },
  {
   "cell_type": "code",
   "execution_count": null,
   "metadata": {},
   "outputs": [],
   "source": []
  }
 ],
 "metadata": {
  "kernelspec": {
   "display_name": "Python 3",
   "language": "python",
   "name": "python3"
  },
  "language_info": {
   "codemirror_mode": {
    "name": "ipython",
    "version": 3
   },
   "file_extension": ".py",
   "mimetype": "text/x-python",
   "name": "python",
   "nbconvert_exporter": "python",
   "pygments_lexer": "ipython3",
   "version": "3.6.5"
  }
 },
 "nbformat": 4,
 "nbformat_minor": 2
}
